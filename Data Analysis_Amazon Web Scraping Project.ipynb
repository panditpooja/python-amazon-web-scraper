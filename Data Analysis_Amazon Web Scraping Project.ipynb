{
 "cells": [
  {
   "cell_type": "code",
   "execution_count": 1,
   "id": "a77301f3-4087-48a1-9e5d-d570fdf097e5",
   "metadata": {},
   "outputs": [],
   "source": [
    "# Import required libraries\n",
    "from bs4 import BeautifulSoup\n",
    "import requests\n",
    "import time\n",
    "import datetime\n",
    "import smtplib\n",
    "import pandas as pd\n",
    "import datetime\n",
    "import csv"
   ]
  },
  {
   "cell_type": "code",
   "execution_count": 2,
   "id": "77cd7103-5a17-409e-be3d-16df5e8d86be",
   "metadata": {},
   "outputs": [],
   "source": [
    "# Create a csv file\n",
    "header = ['Title','Price','Date','Timestamp'] #As per the business requirement we can have either date or timestamp. For demonstration purposes I kept both.\n",
    "with open('AmazonWebScraperDataset.csv','w', newline='',encoding='UTF8') as f:\n",
    "    writer =csv.writer(f)\n",
    "    writer.writerow(header)\n"
   ]
  },
  {
   "cell_type": "code",
   "execution_count": 3,
   "id": "a1cea733-2418-4717-b5ea-b389d3df0747",
   "metadata": {},
   "outputs": [],
   "source": [
    "def check_price():\n",
    "    #Connect to the website\n",
    "    URL ='https://www.amazon.com/Data-Analyst-Software-Engineering-Scientist/dp/B09BVYRCLB/ref=sr_1_1_sspa?crid=36A96GRYJ982N&dib=eyJ2IjoiMSJ9.2LejCQ7ix6lgf5ZZRrtI8mcyWF8bCu_22jsa9Kf5jB1MELLw5f_5R2VUOrYKr1sKOn_T9wcVHCRuF4ETM0nCH8U_uyGaYR8pb__PFdfmFd5K7TY8uUz1E7FV8fx-t8RxUBrRbr5EDrW1fzJRKW07F2FqwpL87Bb-w8EMSHi0sY_ARA3mwJ_jI6EQzfJf0L7VnszEkkMsj3JT2wxSZHXpEIYX07Y6v29NsDfSNs5UWa_0QLDk9GnmTUVRPqmTM0_vyoKGKFVMSv9Gy4QoX0ZgRmKG_U6QiW98yRE8bMVjSOs.TYaI-CDz_eV1UkRDyWfHan1x3t9BoDzLNzXewosPgqw&dib_tag=se&keywords=data+%2B+analyst%2B+tshirt&qid=1750904821&sprefix=data+%2B+analyst%2B+tshirt%2Caps%2C130&sr=8-1-spons&sp_csd=d2lkZ2V0TmFtZT1zcF9hdGY&psc=1'\n",
    "    headers = {\"User-Agent\": \"Mozilla/5.0 (Windows NT 10.0; Win64; x64) AppleWebKit/537.36 (KHTML, like Gecko) Chrome/138.0.0.0 Safari/537.36\",\"Accept\": \"text/html,application/xhtml+xml,application/xml;q=0.9,image/avif,image/webp,image/apng,*/*;q=0.8,application/signed-exchange;v=b3;q=0.7\", \n",
    "        \"Accept-Encoding\": \"gzip, deflate, br, zstd\",\"Connection\":\"Close\",\"Upgrade-Insecure-Requests\": \"1\",\"DNT\":\"1\"}\n",
    "    page = requests.get(URL, headers=headers)\n",
    "    soup1 = BeautifulSoup(page.content,\"html.parser\")\n",
    "    soup2 = BeautifulSoup(soup1.prettify(),\"html.parser\")\n",
    "    # Get the title of the Amazon Product\n",
    "    product_name = soup2.find(id=\"productTitle\").get_text().strip()\n",
    "    # Get the price of the respective product\n",
    "    product_dollar_price = soup2.find(class_ =\"a-price-whole\").get_text().strip().replace(\".\",\"\").strip()\n",
    "    product_cent_price = soup2.find(class_ =\"a-price-fraction\").get_text().strip()\n",
    "    product_price = (product_dollar_price +\".\"+product_cent_price)\n",
    "    # Always a good practice to save the date when this data was scraped\n",
    "    today = datetime.date.today()\n",
    "    timestamp =pd.to_datetime(\"now\")\n",
    "    data = [product_name, product_price, today, timestamp]\n",
    "    # Appending the data to the csv\n",
    "    with open('AmazonWebScraperDataset.csv','a+', newline='',encoding='UTF8') as f:\n",
    "        writer =csv.writer(f)\n",
    "        writer.writerow(data)"
   ]
  },
  {
   "cell_type": "code",
   "execution_count": 4,
   "id": "3d3313dd-4568-471a-b129-7563aac8a8b3",
   "metadata": {},
   "outputs": [],
   "source": [
    "# # Display the title of the Amazon Product\n",
    "# product_name = soup2.find(id=\"productTitle\")\n",
    "# print(f\"The Amazon Product name is: {product_name.text.strip()}\")"
   ]
  },
  {
   "cell_type": "code",
   "execution_count": 5,
   "id": "263e4a1c-1de4-4fdd-8e66-b38429071ed2",
   "metadata": {},
   "outputs": [],
   "source": [
    "# Check the price every 5 seconds, 5 times — just for demonstration purposes (not 1-day delay)\n",
    "counter = 0\n",
    "while counter< 5:\n",
    "    check_price()\n",
    "    #time.sleep(86400) # Sleep for 1 day → 24 hours * 60 minutes * 60 seconds = 86400 seconds\n",
    "    time.sleep(5)\n",
    "    counter+=1"
   ]
  },
  {
   "cell_type": "code",
   "execution_count": 6,
   "id": "31e7f99b-e500-4bda-8862-d4af62642bca",
   "metadata": {},
   "outputs": [
    {
     "data": {
      "text/html": [
       "<div>\n",
       "<style scoped>\n",
       "    .dataframe tbody tr th:only-of-type {\n",
       "        vertical-align: middle;\n",
       "    }\n",
       "\n",
       "    .dataframe tbody tr th {\n",
       "        vertical-align: top;\n",
       "    }\n",
       "\n",
       "    .dataframe thead th {\n",
       "        text-align: right;\n",
       "    }\n",
       "</style>\n",
       "<table border=\"1\" class=\"dataframe\">\n",
       "  <thead>\n",
       "    <tr style=\"text-align: right;\">\n",
       "      <th></th>\n",
       "      <th>Title</th>\n",
       "      <th>Price</th>\n",
       "      <th>Date</th>\n",
       "      <th>Timestamp</th>\n",
       "    </tr>\n",
       "  </thead>\n",
       "  <tbody>\n",
       "    <tr>\n",
       "      <th>0</th>\n",
       "      <td>Funny Data Analyst For Men Software Engineerin...</td>\n",
       "      <td>21.99</td>\n",
       "      <td>2025-06-26</td>\n",
       "      <td>2025-06-26 16:30:50.040842</td>\n",
       "    </tr>\n",
       "    <tr>\n",
       "      <th>1</th>\n",
       "      <td>Funny Data Analyst For Men Software Engineerin...</td>\n",
       "      <td>21.99</td>\n",
       "      <td>2025-06-26</td>\n",
       "      <td>2025-06-26 16:30:57.081212</td>\n",
       "    </tr>\n",
       "    <tr>\n",
       "      <th>2</th>\n",
       "      <td>Funny Data Analyst For Men Software Engineerin...</td>\n",
       "      <td>21.99</td>\n",
       "      <td>2025-06-26</td>\n",
       "      <td>2025-06-26 16:31:04.176924</td>\n",
       "    </tr>\n",
       "    <tr>\n",
       "      <th>3</th>\n",
       "      <td>Funny Data Analyst For Men Software Engineerin...</td>\n",
       "      <td>21.99</td>\n",
       "      <td>2025-06-26</td>\n",
       "      <td>2025-06-26 16:31:11.273596</td>\n",
       "    </tr>\n",
       "    <tr>\n",
       "      <th>4</th>\n",
       "      <td>Funny Data Analyst For Men Software Engineerin...</td>\n",
       "      <td>21.99</td>\n",
       "      <td>2025-06-26</td>\n",
       "      <td>2025-06-26 16:31:18.398787</td>\n",
       "    </tr>\n",
       "  </tbody>\n",
       "</table>\n",
       "</div>"
      ],
      "text/plain": [
       "                                               Title  Price        Date  \\\n",
       "0  Funny Data Analyst For Men Software Engineerin...  21.99  2025-06-26   \n",
       "1  Funny Data Analyst For Men Software Engineerin...  21.99  2025-06-26   \n",
       "2  Funny Data Analyst For Men Software Engineerin...  21.99  2025-06-26   \n",
       "3  Funny Data Analyst For Men Software Engineerin...  21.99  2025-06-26   \n",
       "4  Funny Data Analyst For Men Software Engineerin...  21.99  2025-06-26   \n",
       "\n",
       "                    Timestamp  \n",
       "0  2025-06-26 16:30:50.040842  \n",
       "1  2025-06-26 16:30:57.081212  \n",
       "2  2025-06-26 16:31:04.176924  \n",
       "3  2025-06-26 16:31:11.273596  \n",
       "4  2025-06-26 16:31:18.398787  "
      ]
     },
     "execution_count": 6,
     "metadata": {},
     "output_type": "execute_result"
    }
   ],
   "source": [
    "df = pd.read_csv(r\"C:\\Users\\ual-laptop\\Downloads\\university downloads\\UoA laptop downloads folder\\Alex The Analyst\\Pooja\\Python\\Project\\Amazon Web Scraping Project\\AmazonWebScraperDataset.csv\")\n",
    "df"
   ]
  },
  {
   "cell_type": "code",
   "execution_count": null,
   "id": "df2ecdba-b1ea-4676-b817-b7a2552077c3",
   "metadata": {},
   "outputs": [],
   "source": []
  }
 ],
 "metadata": {
  "kernelspec": {
   "display_name": "Python 3 (ipykernel)",
   "language": "python",
   "name": "python3"
  },
  "language_info": {
   "codemirror_mode": {
    "name": "ipython",
    "version": 3
   },
   "file_extension": ".py",
   "mimetype": "text/x-python",
   "name": "python",
   "nbconvert_exporter": "python",
   "pygments_lexer": "ipython3",
   "version": "3.13.5"
  }
 },
 "nbformat": 4,
 "nbformat_minor": 5
}
